{
  "cells": [
    {
      "attachments": {},
      "cell_type": "markdown",
      "metadata": {},
      "source": [
        "For this workshop, you need:\n",
        "\n",
        "* An Azure Machine Learning workspace. \n",
        "* The Azure Machine Learning CLI v2 installed.\n",
        "\n",
        "To install the CLI you can either,\n",
        "\n",
        "Create a compute instance, which already has installed the latest AzureML CLI and is pre-configured for ML workflows.\n",
        "\n",
        "Use the followings commands to install Azure ML CLI v2:\n",
        "\n",
        "```bash\n",
        "az extension add --name ml\n",
        "az login --identity\n",
        "```\n",
        "\n"
      ]
    },
    {
      "cell_type": "markdown",
      "metadata": {
        "nteract": {
          "transient": {
            "deleting": false
          }
        },
        "tags": []
      },
      "source": [
        "# Model Training"
      ]
    },
    {
      "attachments": {},
      "cell_type": "markdown",
      "metadata": {
        "nteract": {
          "transient": {
            "deleting": false
          }
        },
        "tags": []
      },
      "source": [
        "## (Optional) 1. Create Managed Compute\n",
        "\n",
        "A compute is a designated compute resource where you run your job or host your endpoint. Azure Machine learning supports the following types of compute:\n",
        "\n",
        "- **Compute instance** - a fully configured and managed development environment in the cloud. You can use the instance as a training or inference compute for development and testing. It's similar to a virtual machine on the cloud.\n",
        "\n",
        "- **Compute cluster** - a managed-compute infrastructure that allows you to easily create a cluster of CPU or GPU compute nodes in the cloud.\n",
        "\n",
        "- **Inference cluster** - used to deploy trained machine learning models to Azure Kubernetes Service. You can create an Azure Kubernetes Service (AKS) cluster from your Azure ML workspace, or attach an existing AKS cluster.\n",
        "\n",
        "- **Attached compute** - You can attach your own compute resources to your workspace and use them for training and inference.\n",
        "\n",
        "You can create a compute using the Studio, the cli and the sdk.\n",
        "\n",
        "<hr>\n",
        "\n",
        "We can create a **compute instance** with cli v2 or sdk v2 using the following syntax:\n",
        "\n",
        "<center>\n",
        "<img src=\"../../imgs/create_compute_instance.png\" width = \"700px\" alt=\"Create Compute Instance cli vs sdk\">\n",
        "</center>\n",
        "\n",
        "\n",
        "<hr>\n",
        "\n",
        "We can create a **compute cluster** with cli v2 or sdk v2 using the following syntax:\n",
        "\n",
        "<center>\n",
        "<img src=\"../../imgs/create_compute_cluster.png\" width = \"700px\" alt=\"Create Compute Instance cli vs sdk\">\n",
        "</center>\n",
        "\n",
        "\n",
        "Let's create a managed compute cluster for the training workload."
      ]
    },
    {
      "cell_type": "markdown",
      "metadata": {},
      "source": [
        "``` python\n",
        "# Create train job compute cluster\n",
        "!az ml compute create --file train/compute.yml\n",
        "```"
      ]
    },
    {
      "attachments": {},
      "cell_type": "markdown",
      "metadata": {
        "nteract": {
          "transient": {
            "deleting": false
          }
        },
        "tags": []
      },
      "source": [
        "## 2. Register Data Asset\n",
        "\n",
        "**Datastore** - Azure Machine Learning Datastores securely keep the connection information to your data storage on Azure, so you don't have to code it in your scripts.\n",
        "\n",
        "An Azure Machine Learning datastore is a **reference** to an **existing** storage account on Azure. The benefits of creating and using a datastore are:\n",
        "* A common and easy-to-use API to interact with different storage type. \n",
        "* Easier to discover useful datastores when working as a team.\n",
        "* When using credential-based access (service principal/SAS/key), the connection information is secured so you don't have to code it in your scripts.\n",
        "\n",
        "Supported Data Resources: \n",
        "\n",
        "* Azure Storage blob container\n",
        "* Azure Storage file share\n",
        "* Azure Data Lake Gen 1\n",
        "* Azure Data Lake Gen 2\n",
        "\n",
        "\n",
        "It is not a requirement to use Azure Machine Learning datastores - you can use storage URIs directly assuming you have access to the underlying data.\n",
        "\n",
        "You can create a datastore using the Studio, the cli and the sdk.\n",
        "\n",
        "<hr>\n",
        "\n",
        "We can create a **datastore** with cli v2 or sdk v2 using the following syntax:\n",
        "\n",
        "<center>\n",
        "<img src=\"../../imgs/create_datastore.png\" width = \"700px\" alt=\"Create Datastore cli vs sdk\">\n",
        "</center>\n",
        "\n",
        "\n",
        "\n",
        "**Data asset** - Create data assets in your workspace to share with team members, version, and track data lineage.\n",
        "\n",
        "By creating a data asset, you create a reference to the data source location, along with a copy of its metadata. \n",
        "\n",
        "The benefits of creating data assets are:\n",
        "\n",
        "* You can **share and reuse data** with other members of the team such that they do not need to remember file locations.\n",
        "* You can **seamlessly access data** during model training (on any supported compute type) without worrying about connection strings or data paths.\n",
        "* You can **version** the data.\n",
        "\n",
        "<hr>\n",
        "\n",
        "We can create a **data asset** with cli v2 or sdk v2 using the following syntax:\n",
        "\n",
        "<center>\n",
        "<img src=\"../../imgs/create_data_asset.png\" width = \"700px\" alt=\"Create Data Asset cli vs sdk\">\n",
        "</center>"
      ]
    },
    {
      "cell_type": "code",
      "execution_count": 1,
      "metadata": {
        "collapsed": false,
        "gather": {
          "logged": 1671207553070
        },
        "jupyter": {
          "outputs_hidden": false,
          "source_hidden": false
        },
        "nteract": {
          "transient": {
            "deleting": false
          }
        }
      },
      "outputs": [
        {
          "name": "stdout",
          "output_type": "stream",
          "text": [
            "{\n",
            "  \"creation_context\": {\n",
            "    \"created_at\": \"2022-12-17T21:49:48.920027+00:00\",\n",
            "    \"created_by\": \"Louis Li (AI)\",\n",
            "    \"created_by_type\": \"User\",\n",
            "    \"last_modified_at\": \"2022-12-17T21:49:48.952502+00:00\"\n",
            "  },\n",
            "  \"description\": \"taxi dataset\",\n",
            "  \"id\": \"/subscriptions/8480def5-8f7a-4285-99f7-295b61d7b22a/resourceGroups/mldemorg/providers/Microsoft.MachineLearningServices/workspaces/mldemo/data/taxi-data/versions/6\",\n",
            "  \"name\": \"taxi-data\",\n",
            "  \"path\": \"azureml://subscriptions/8480def5-8f7a-4285-99f7-295b61d7b22a/resourcegroups/mldemorg/workspaces/mldemo/datastores/workspaceblobstore/paths/LocalUpload/9292ec840b5d1db6306dba71da69ab7f/taxi-data.csv\",\n",
            "  \"resourceGroup\": \"mldemorg\",\n",
            "  \"tags\": {},\n",
            "  \"type\": \"uri_file\",\n",
            "  \"version\": \"6\"\n",
            "}\n",
            "\u001b[0m"
          ]
        }
      ],
      "source": [
        "# Register data asset \n",
        "!az ml data create --file train/data.yml"
      ]
    },
    {
      "cell_type": "markdown",
      "metadata": {
        "nteract": {
          "transient": {
            "deleting": false
          }
        }
      },
      "source": [
        "## 3. Register Train Environment\n",
        "\n",
        "Azure Machine Learning environments define the execution environments for your **jobs** or **deployments** and encapsulate the dependencies for your code. \n",
        "\n",
        "Azure ML uses the environment specification to create the Docker container that your **training** or **scoring code** runs in on the specified compute target.\n",
        "\n",
        "Create an environment from a\n",
        "* conda specification\n",
        "* Docker image\n",
        "* Docker build context\n",
        "\n",
        "There are two types of environments in Azure ML: **curated** and **custom environments**. Curated environments are predefined environments containing popular ML frameworks and tooling. Custom environments are user-defined.\n",
        "\n",
        "<hr>\n",
        "\n",
        "We can register an **environment** with cli v2 or sdk v2 using the following syntax:\n",
        "\n",
        "<center>\n",
        "<img src=\"../../imgs/create_environment.png\" width = \"700px\" alt=\"Create Environment cli vs sdk\">\n",
        "</center>"
      ]
    },
    {
      "cell_type": "code",
      "execution_count": 3,
      "metadata": {
        "collapsed": false,
        "jupyter": {
          "outputs_hidden": false,
          "source_hidden": false
        },
        "nteract": {
          "transient": {
            "deleting": false
          }
        }
      },
      "outputs": [
        {
          "name": "stdout",
          "output_type": "stream",
          "text": [
            "{\n",
            "  \"conda_file\": {\n",
            "    \"channels\": [\n",
            "      \"defaults\",\n",
            "      \"anaconda\",\n",
            "      \"conda-forge\"\n",
            "    ],\n",
            "    \"dependencies\": [\n",
            "      \"python=3.7.5\",\n",
            "      \"pip\",\n",
            "      {\n",
            "        \"pip\": [\n",
            "          \"azureml-mlflow==1.38.0\",\n",
            "          \"azure-ai-ml==1.0.0\",\n",
            "          \"pyarrow==10.0.0\",\n",
            "          \"ruamel.yaml==0.17.21\",\n",
            "          \"scikit-learn==0.24.1\",\n",
            "          \"pandas==1.2.1\",\n",
            "          \"joblib==1.0.0\",\n",
            "          \"matplotlib==3.3.3\"\n",
            "        ]\n",
            "      }\n",
            "    ]\n",
            "  },\n",
            "  \"creation_context\": {\n",
            "    \"created_at\": \"2022-12-17T21:50:31.521465+00:00\",\n",
            "    \"created_by\": \"Louis Li (AI)\",\n",
            "    \"created_by_type\": \"User\",\n",
            "    \"last_modified_at\": \"2022-12-17T21:50:31.521465+00:00\",\n",
            "    \"last_modified_by\": \"Louis Li (AI)\",\n",
            "    \"last_modified_by_type\": \"User\"\n",
            "  },\n",
            "  \"description\": \"Environment created from a Docker image plus Conda environment to train taxi model.\",\n",
            "  \"id\": \"azureml:/subscriptions/8480def5-8f7a-4285-99f7-295b61d7b22a/resourceGroups/mldemorg/providers/Microsoft.MachineLearningServices/workspaces/mldemo/environments/taxi-train-env/versions/5\",\n",
            "  \"image\": \"mcr.microsoft.com/azureml/openmpi3.1.2-ubuntu18.04\",\n",
            "  \"name\": \"taxi-train-env\",\n",
            "  \"os_type\": \"linux\",\n",
            "  \"resourceGroup\": \"mldemorg\",\n",
            "  \"tags\": {},\n",
            "  \"version\": \"5\"\n",
            "}\n",
            "\u001b[0m"
          ]
        }
      ],
      "source": [
        "# Register train environment \n",
        "!az ml environment create --file train/environment.yml"
      ]
    },
    {
      "cell_type": "markdown",
      "metadata": {
        "nteract": {
          "transient": {
            "deleting": false
          }
        },
        "tags": []
      },
      "source": [
        "## 4. Create Pipeline Job\n",
        "\n",
        "**AML Job**:\n",
        "\n",
        "Azure ML provides several ways to train your models, from code-first solutions to low-code solutions:\n",
        "\n",
        "* Azure ML supports script files in python, R, Java, Julia or C#. All you need to learn is YAML format and command lines to use Azure ML.\n",
        "\n",
        "* Distributed Training: AML supports integrations with popular frameworks, PyTorch and TensorFlow. Both frameworks employ data parallelism & model parallelism for distributed training.\n",
        "\n",
        "* Automated ML - Train models without extensive data science or programming knowledge.\n",
        "\n",
        "* Designer - drag and drop web-based UI.\n",
        "\n",
        "<hr>\n",
        "\n",
        "We can submit a **job** with cli v2 or sdk v2 using the following syntax:\n",
        "\n",
        "<center>\n",
        "<img src=\"../../imgs/create_job.png\" width = \"700px\" alt=\"Create Job cli vs sdk\">\n",
        "</center>\n",
        "\n",
        "<br>\n",
        "    \n",
        "**AML Pipelines**:\n",
        "\n",
        "An AML pipeline is an independently executable workflow of a complete machine learning task. It helps standardizing the best practices of producing a machine learning model: The core of a machine learning pipeline is to split a complete machine learning task into a multistep workflow. Each step is a manageable component that can be developed, optimized, configured, and automated individually. \n",
        "\n",
        "<hr>\n",
        "\n",
        "We can submit a **pipeline job** with cli v2 or sdk v2 using the following syntax:\n",
        "\n",
        "<center>\n",
        "<img src=\"../../imgs/create_pipeline.png\" width = \"700px\" alt=\"Create Pipeline cli vs sdk\">\n",
        "</center>"
      ]
    },
    {
      "cell_type": "code",
      "execution_count": 10,
      "metadata": {
        "collapsed": false,
        "jupyter": {
          "outputs_hidden": false,
          "source_hidden": false
        },
        "nteract": {
          "transient": {
            "deleting": false
          }
        }
      },
      "outputs": [
        {
          "name": "stdout",
          "output_type": "stream",
          "text": [
            "\u001b[93mAuto upgrade failed. name 'exit_code' is not defined\u001b[0m\n",
            "Traceback (most recent call last):\n",
            "  File \"/opt/az/extensions/ml/azext_mlv2/manual/vendored_curated_sdk/azure/ai/ml/entities/_util.py\", line 143, in load_from_dict\n",
            "    return schema(context=context).load(data, **kwargs)\n",
            "  File \"/opt/az/extensions/ml/marshmallow/schema.py\", line 722, in load\n",
            "    return self._do_load(\n",
            "  File \"/opt/az/extensions/ml/marshmallow/schema.py\", line 909, in _do_load\n",
            "    raise exc\n",
            "marshmallow.exceptions.ValidationError: {'jobs': defaultdict(<class 'dict'>, {'prep_data': {'value': [{'code': [{'_schema': ['Value passed is not a data binding string: ../../../component/prep']}, {'_schema': ['Value passed is not a data binding string: ../../../component/prep']}, {'_schema': ['../../../component/prep is not a valid path']}, {'_schema': ['Not a valid URL.']}, {'_schema': [\"In order to specify an existing codes, please provide either of the following prefixed with 'azureml:':\\n1. The full ARM ID for the resource, e.g.azureml:/subscriptions/<subscription_id>/resourceGroups/<resource_group>/providers/Microsoft.MachineLearningServices/workspaces/<workspace_name>/codes\\n2. The short-hand name of the resource registered in the workspace, eg: azureml:<short-hand-name>:<version-if applicable>. For example, version 1 of the environment registered as 'my-env' in the workspace can be referenced as 'azureml:my-env:1'\"]}], 'component': ['Missing data for required field.']}, {'objective': ['Missing data for required field.'], 'limits': ['Missing data for required field.'], 'type': [\"Value command passed is not in set ['sweep']\"], 'trial': ['Missing data for required field.']}, {'component': ['Missing data for required field.'], 'type': [\"Value command passed is not in set ['parallel']\"]}, {'code': [{'_schema': ['../../../component/prep is not a valid path']}, {'_schema': ['Not a valid URL.']}, {'_schema': [\"In order to specify an existing codes, please provide either of the following prefixed with 'azureml:':\\n1. The full ARM ID for the resource, e.g.azureml:/subscriptions/<subscription_id>/resourceGroups/<resource_group>/providers/Microsoft.MachineLearningServices/workspaces/<workspace_name>/codes\\n2. The short-hand name of the resource registered in the workspace, eg: azureml:<short-hand-name>:<version-if applicable>. For example, version 1 of the environment registered as 'my-env' in the workspace can be referenced as 'azureml:my-env:1'\"]}]}, {None: [{'type': [\"Value command passed is not in set ['automl']\"], 'target_column_name': ['Missing data for required field.'], 'task': ['Missing data for required field.']}, {'type': [\"Value command passed is not in set ['automl']\"], 'target_column_name': ['Missing data for required field.'], 'task': ['Missing data for required field.']}, {'type': [\"Value command passed is not in set ['automl']\"], 'target_column_name': ['Missing data for required field.'], 'task': ['Missing data for required field.']}, {'type': [\"Value command passed is not in set ['automl']\"], 'target_column_name': ['Missing data for required field.'], 'task': ['Missing data for required field.']}, {'type': [\"Value command passed is not in set ['automl']\"], 'target_column_name': ['Missing data for required field.'], 'task': ['Missing data for required field.']}, {'type': [\"Value command passed is not in set ['automl']\"], 'target_column_name': ['Missing data for required field.'], 'task': ['Missing data for required field.']}, {'type': [\"Value command passed is not in set ['automl']\"], 'target_column_name': ['Missing data for required field.'], 'task': ['Missing data for required field.']}, {'type': [\"Value command passed is not in set ['automl']\"], 'task': ['Missing data for required field.'], 'target_column_name': ['Missing data for required field.']}, {'type': [\"Value command passed is not in set ['automl']\"], 'task': ['Missing data for required field.'], 'target_column_name': ['Missing data for required field.']}, {'type': [\"Value command passed is not in set ['automl']\"], 'task': ['Missing data for required field.']}]}, {'type': [\"Value command passed is not in set ['parallel']\"]}]}})}\n",
            "\n",
            "During handling of the above exception, another exception occurred:\n",
            "\n",
            "Traceback (most recent call last):\n",
            "  File \"/opt/az/extensions/ml/azext_mlv2/manual/custom/job.py\", line 60, in ml_job_create\n",
            "    job = load_job(path=file, params_override=params_override)\n",
            "  File \"/opt/az/extensions/ml/azext_mlv2/manual/vendored_curated_sdk/azure/ai/ml/entities/_load_functions.py\", line 74, in load_job\n",
            "    return load_common(Job, path, **kwargs)\n",
            "  File \"/opt/az/extensions/ml/azext_mlv2/manual/vendored_curated_sdk/azure/ai/ml/entities/_load_functions.py\", line 59, in load_common\n",
            "    return cls._load(data=yaml_dict, yaml_path=path, params_override=params_override, **kwargs)\n",
            "  File \"/opt/az/extensions/ml/azext_mlv2/manual/vendored_curated_sdk/azure/ai/ml/entities/_job/job.py\", line 235, in _load\n",
            "    return job_type._load_from_dict(\n",
            "  File \"/opt/az/extensions/ml/azext_mlv2/manual/vendored_curated_sdk/azure/ai/ml/entities/_job/pipeline/pipeline_job.py\", line 471, in _load_from_dict\n",
            "    loaded_schema = load_from_dict(PipelineJobSchema, data, context, additional_message, **kwargs)\n",
            "  File \"/opt/az/extensions/ml/azext_mlv2/manual/vendored_curated_sdk/azure/ai/ml/entities/_util.py\", line 146, in load_from_dict\n",
            "    raise ValidationError(decorate_validation_error(schema, pretty_error, additional_message))\n",
            "marshmallow.exceptions.ValidationError: Validation for PipelineJobSchema failed:\n",
            "\n",
            " {\n",
            "  \"jobs\": {\n",
            "    \"prep_data\": {\n",
            "      \"value\": [\n",
            "        {\n",
            "          \"code\": [\n",
            "            {\n",
            "              \"_schema\": [\n",
            "                \"Value passed is not a data binding string: ../../../component/prep\"\n",
            "              ]\n",
            "            },\n",
            "            {\n",
            "              \"_schema\": [\n",
            "                \"Value passed is not a data binding string: ../../../component/prep\"\n",
            "              ]\n",
            "            },\n",
            "            {\n",
            "              \"_schema\": [\n",
            "                \"../../../component/prep is not a valid path\"\n",
            "              ]\n",
            "            },\n",
            "            {\n",
            "              \"_schema\": [\n",
            "                \"Not a valid URL.\"\n",
            "              ]\n",
            "            },\n",
            "            {\n",
            "              \"_schema\": [\n",
            "                \"In order to specify an existing codes, please provide either of the following prefixed with 'azureml:':\\n1. The full ARM ID for the resource, e.g.azureml:/subscriptions/<subscription_id>/resourceGroups/<resource_group>/providers/Microsoft.MachineLearningServices/workspaces/<workspace_name>/codes\\n2. The short-hand name of the resource registered in the workspace, eg: azureml:<short-hand-name>:<version-if applicable>. For example, version 1 of the environment registered as 'my-env' in the workspace can be referenced as 'azureml:my-env:1'\"\n",
            "              ]\n",
            "            }\n",
            "          ],\n",
            "          \"component\": [\n",
            "            \"Missing data for required field.\"\n",
            "          ]\n",
            "        },\n",
            "        {\n",
            "          \"objective\": [\n",
            "            \"Missing data for required field.\"\n",
            "          ],\n",
            "          \"limits\": [\n",
            "            \"Missing data for required field.\"\n",
            "          ],\n",
            "          \"type\": [\n",
            "            \"Value command passed is not in set ['sweep']\"\n",
            "          ],\n",
            "          \"trial\": [\n",
            "            \"Missing data for required field.\"\n",
            "          ]\n",
            "        },\n",
            "        {\n",
            "          \"component\": [\n",
            "            \"Missing data for required field.\"\n",
            "          ],\n",
            "          \"type\": [\n",
            "            \"Value command passed is not in set ['parallel']\"\n",
            "          ]\n",
            "        },\n",
            "        {\n",
            "          \"code\": [\n",
            "            {\n",
            "              \"_schema\": [\n",
            "                \"../../../component/prep is not a valid path\"\n",
            "              ]\n",
            "            },\n",
            "            {\n",
            "              \"_schema\": [\n",
            "                \"Not a valid URL.\"\n",
            "              ]\n",
            "            },\n",
            "            {\n",
            "              \"_schema\": [\n",
            "                \"In order to specify an existing codes, please provide either of the following prefixed with 'azureml:':\\n1. The full ARM ID for the resource, e.g.azureml:/subscriptions/<subscription_id>/resourceGroups/<resource_group>/providers/Microsoft.MachineLearningServices/workspaces/<workspace_name>/codes\\n2. The short-hand name of the resource registered in the workspace, eg: azureml:<short-hand-name>:<version-if applicable>. For example, version 1 of the environment registered as 'my-env' in the workspace can be referenced as 'azureml:my-env:1'\"\n",
            "              ]\n",
            "            }\n",
            "          ]\n",
            "        },\n",
            "        {\n",
            "          \"null\": [\n",
            "            {\n",
            "              \"type\": [\n",
            "                \"Value command passed is not in set ['automl']\"\n",
            "              ],\n",
            "              \"target_column_name\": [\n",
            "                \"Missing data for required field.\"\n",
            "              ],\n",
            "              \"task\": [\n",
            "                \"Missing data for required field.\"\n",
            "              ]\n",
            "            },\n",
            "            {\n",
            "              \"type\": [\n",
            "                \"Value command passed is not in set ['automl']\"\n",
            "              ],\n",
            "              \"target_column_name\": [\n",
            "                \"Missing data for required field.\"\n",
            "              ],\n",
            "              \"task\": [\n",
            "                \"Missing data for required field.\"\n",
            "              ]\n",
            "            },\n",
            "            {\n",
            "              \"type\": [\n",
            "                \"Value command passed is not in set ['automl']\"\n",
            "              ],\n",
            "              \"target_column_name\": [\n",
            "                \"Missing data for required field.\"\n",
            "              ],\n",
            "              \"task\": [\n",
            "                \"Missing data for required field.\"\n",
            "              ]\n",
            "            },\n",
            "            {\n",
            "              \"type\": [\n",
            "                \"Value command passed is not in set ['automl']\"\n",
            "              ],\n",
            "              \"target_column_name\": [\n",
            "                \"Missing data for required field.\"\n",
            "              ],\n",
            "              \"task\": [\n",
            "                \"Missing data for required field.\"\n",
            "              ]\n",
            "            },\n",
            "            {\n",
            "              \"type\": [\n",
            "                \"Value command passed is not in set ['automl']\"\n",
            "              ],\n",
            "              \"target_column_name\": [\n",
            "                \"Missing data for required field.\"\n",
            "              ],\n",
            "              \"task\": [\n",
            "                \"Missing data for required field.\"\n",
            "              ]\n",
            "            },\n",
            "            {\n",
            "              \"type\": [\n",
            "                \"Value command passed is not in set ['automl']\"\n",
            "              ],\n",
            "              \"target_column_name\": [\n",
            "                \"Missing data for required field.\"\n",
            "              ],\n",
            "              \"task\": [\n",
            "                \"Missing data for required field.\"\n",
            "              ]\n",
            "            },\n",
            "            {\n",
            "              \"type\": [\n",
            "                \"Value command passed is not in set ['automl']\"\n",
            "              ],\n",
            "              \"target_column_name\": [\n",
            "                \"Missing data for required field.\"\n",
            "              ],\n",
            "              \"task\": [\n",
            "                \"Missing data for required field.\"\n",
            "              ]\n",
            "            },\n",
            "            {\n",
            "              \"type\": [\n",
            "                \"Value command passed is not in set ['automl']\"\n",
            "              ],\n",
            "              \"task\": [\n",
            "                \"Missing data for required field.\"\n",
            "              ],\n",
            "              \"target_column_name\": [\n",
            "                \"Missing data for required field.\"\n",
            "              ]\n",
            "            },\n",
            "            {\n",
            "              \"type\": [\n",
            "                \"Value command passed is not in set ['automl']\"\n",
            "              ],\n",
            "              \"task\": [\n",
            "                \"Missing data for required field.\"\n",
            "              ],\n",
            "              \"target_column_name\": [\n",
            "                \"Missing data for required field.\"\n",
            "              ]\n",
            "            },\n",
            "            {\n",
            "              \"type\": [\n",
            "                \"Value command passed is not in set ['automl']\"\n",
            "              ],\n",
            "              \"task\": [\n",
            "                \"Missing data for required field.\"\n",
            "              ]\n",
            "            }\n",
            "          ]\n",
            "        },\n",
            "        {\n",
            "          \"type\": [\n",
            "            \"Value command passed is not in set ['parallel']\"\n",
            "          ]\n",
            "        }\n",
            "      ]\n",
            "    }\n",
            "  }\n",
            "} \n",
            "\n",
            " If you are trying to configure a job that is not of type pipeline, please specify the correct job type in the 'type' property.\n",
            "For a more detailed breakdown of the PipelineJob schema, please see: https://aka.ms/ml-cli-v2-job-pipeline-yaml-reference.\n",
            "The easiest way to author a specification file is using IntelliSense and auto-completion Azure ML VS code extension provides: https://code.visualstudio.com/docs/datascience/azure-machine-learning\n",
            "To set up: https://docs.microsoft.com/azure/machine-learning/how-to-setup-vs-code\n",
            "\n",
            "During handling of the above exception, another exception occurred:\n",
            "\n",
            "Traceback (most recent call last):\n",
            "  File \"/anaconda/envs/azureml_py38/lib/python3.8/site-packages/knack/cli.py\", line 233, in invoke\n",
            "    cmd_result = self.invocation.execute(args)\n",
            "  File \"/anaconda/envs/azureml_py38/lib/python3.8/site-packages/azure/cli/core/commands/__init__.py\", line 663, in execute\n",
            "    raise ex\n",
            "  File \"/anaconda/envs/azureml_py38/lib/python3.8/site-packages/azure/cli/core/commands/__init__.py\", line 726, in _run_jobs_serially\n",
            "    results.append(self._run_job(expanded_arg, cmd_copy))\n",
            "  File \"/anaconda/envs/azureml_py38/lib/python3.8/site-packages/azure/cli/core/commands/__init__.py\", line 697, in _run_job\n",
            "    result = cmd_copy(params)\n",
            "  File \"/anaconda/envs/azureml_py38/lib/python3.8/site-packages/azure/cli/core/commands/__init__.py\", line 333, in __call__\n",
            "    return self.handler(*args, **kwargs)\n",
            "  File \"/anaconda/envs/azureml_py38/lib/python3.8/site-packages/azure/cli/core/commands/command_operation.py\", line 121, in handler\n",
            "    return op(**command_args)\n",
            "  File \"/opt/az/extensions/ml/azext_mlv2/manual/custom/job.py\", line 77, in ml_job_create\n",
            "    log_and_raise_error(err, debug)\n",
            "  File \"/opt/az/extensions/ml/azext_mlv2/manual/custom/raise_error.py\", line 117, in log_and_raise_error\n",
            "    raise cli_error\n",
            "knack.util.CLIError: Met error <class 'marshmallow.exceptions.ValidationError'>:Validation for PipelineJobSchema failed:\n",
            "\n",
            " {\n",
            "  \"jobs\": {\n",
            "    \"prep_data\": {\n",
            "      \"value\": [\n",
            "        {\n",
            "          \"code\": [\n",
            "            {\n",
            "              \"_schema\": [\n",
            "                \"Value passed is not a data binding string: ../../../component/prep\"\n",
            "              ]\n",
            "            },\n",
            "            {\n",
            "              \"_schema\": [\n",
            "                \"Value passed is not a data binding string: ../../../component/prep\"\n",
            "              ]\n",
            "            },\n",
            "            {\n",
            "              \"_schema\": [\n",
            "                \"../../../component/prep is not a valid path\"\n",
            "              ]\n",
            "            },\n",
            "            {\n",
            "              \"_schema\": [\n",
            "                \"Not a valid URL.\"\n",
            "              ]\n",
            "            },\n",
            "            {\n",
            "              \"_schema\": [\n",
            "                \"In order to specify an existing codes, please provide either of the following prefixed with 'azureml:':\\n1. The full ARM ID for the resource, e.g.azureml:/subscriptions/<subscription_id>/resourceGroups/<resource_group>/providers/Microsoft.MachineLearningServices/workspaces/<workspace_name>/codes\\n2. The short-hand name of the resource registered in the workspace, eg: azureml:<short-hand-name>:<version-if applicable>. For example, version 1 of the environment registered as 'my-env' in the workspace can be referenced as 'azureml:my-env:1'\"\n",
            "              ]\n",
            "            }\n",
            "          ],\n",
            "          \"component\": [\n",
            "            \"Missing data for required field.\"\n",
            "          ]\n",
            "        },\n",
            "        {\n",
            "          \"objective\": [\n",
            "            \"Missing data for required field.\"\n",
            "          ],\n",
            "          \"limits\": [\n",
            "            \"Missing data for required field.\"\n",
            "          ],\n",
            "          \"type\": [\n",
            "            \"Value command passed is not in set ['sweep']\"\n",
            "          ],\n",
            "          \"trial\": [\n",
            "            \"Missing data for required field.\"\n",
            "          ]\n",
            "        },\n",
            "        {\n",
            "          \"component\": [\n",
            "            \"Missing data for required field.\"\n",
            "          ],\n",
            "          \"type\": [\n",
            "            \"Value command passed is not in set ['parallel']\"\n",
            "          ]\n",
            "        },\n",
            "        {\n",
            "          \"code\": [\n",
            "            {\n",
            "              \"_schema\": [\n",
            "                \"../../../component/prep is not a valid path\"\n",
            "              ]\n",
            "            },\n",
            "            {\n",
            "              \"_schema\": [\n",
            "                \"Not a valid URL.\"\n",
            "              ]\n",
            "            },\n",
            "            {\n",
            "              \"_schema\": [\n",
            "                \"In order to specify an existing codes, please provide either of the following prefixed with 'azureml:':\\n1. The full ARM ID for the resource, e.g.azureml:/subscriptions/<subscription_id>/resourceGroups/<resource_group>/providers/Microsoft.MachineLearningServices/workspaces/<workspace_name>/codes\\n2. The short-hand name of the resource registered in the workspace, eg: azureml:<short-hand-name>:<version-if applicable>. For example, version 1 of the environment registered as 'my-env' in the workspace can be referenced as 'azureml:my-env:1'\"\n",
            "              ]\n",
            "            }\n",
            "          ]\n",
            "        },\n",
            "        {\n",
            "          \"null\": [\n",
            "            {\n",
            "              \"type\": [\n",
            "                \"Value command passed is not in set ['automl']\"\n",
            "              ],\n",
            "              \"target_column_name\": [\n",
            "                \"Missing data for required field.\"\n",
            "              ],\n",
            "              \"task\": [\n",
            "                \"Missing data for required field.\"\n",
            "              ]\n",
            "            },\n",
            "            {\n",
            "              \"type\": [\n",
            "                \"Value command passed is not in set ['automl']\"\n",
            "              ],\n",
            "              \"target_column_name\": [\n",
            "                \"Missing data for required field.\"\n",
            "              ],\n",
            "              \"task\": [\n",
            "                \"Missing data for required field.\"\n",
            "              ]\n",
            "            },\n",
            "            {\n",
            "              \"type\": [\n",
            "                \"Value command passed is not in set ['automl']\"\n",
            "              ],\n",
            "              \"target_column_name\": [\n",
            "                \"Missing data for required field.\"\n",
            "              ],\n",
            "              \"task\": [\n",
            "                \"Missing data for required field.\"\n",
            "              ]\n",
            "            },\n",
            "            {\n",
            "              \"type\": [\n",
            "                \"Value command passed is not in set ['automl']\"\n",
            "              ],\n",
            "              \"target_column_name\": [\n",
            "                \"Missing data for required field.\"\n",
            "              ],\n",
            "              \"task\": [\n",
            "                \"Missing data for required field.\"\n",
            "              ]\n",
            "            },\n",
            "            {\n",
            "              \"type\": [\n",
            "                \"Value command passed is not in set ['automl']\"\n",
            "              ],\n",
            "              \"target_column_name\": [\n",
            "                \"Missing data for required field.\"\n",
            "              ],\n",
            "              \"task\": [\n",
            "                \"Missing data for required field.\"\n",
            "              ]\n",
            "            },\n",
            "            {\n",
            "              \"type\": [\n",
            "                \"Value command passed is not in set ['automl']\"\n",
            "              ],\n",
            "              \"target_column_name\": [\n",
            "                \"Missing data for required field.\"\n",
            "              ],\n",
            "              \"task\": [\n",
            "                \"Missing data for required field.\"\n",
            "              ]\n",
            "            },\n",
            "            {\n",
            "              \"type\": [\n",
            "                \"Value command passed is not in set ['automl']\"\n",
            "              ],\n",
            "              \"target_column_name\": [\n",
            "                \"Missing data for required field.\"\n",
            "              ],\n",
            "              \"task\": [\n",
            "                \"Missing data for required field.\"\n",
            "              ]\n",
            "            },\n",
            "            {\n",
            "              \"type\": [\n",
            "                \"Value command passed is not in set ['automl']\"\n",
            "              ],\n",
            "              \"task\": [\n",
            "                \"Missing data for required field.\"\n",
            "              ],\n",
            "              \"target_column_name\": [\n",
            "                \"Missing data for required field.\"\n",
            "              ]\n",
            "            },\n",
            "            {\n",
            "              \"type\": [\n",
            "                \"Value command passed is not in set ['automl']\"\n",
            "              ],\n",
            "              \"task\": [\n",
            "                \"Missing data for required field.\"\n",
            "              ],\n",
            "              \"target_column_name\": [\n",
            "                \"Missing data for required field.\"\n",
            "              ]\n",
            "            },\n",
            "            {\n",
            "              \"type\": [\n",
            "                \"Value command passed is not in set ['automl']\"\n",
            "              ],\n",
            "              \"task\": [\n",
            "                \"Missing data for required field.\"\n",
            "              ]\n",
            "            }\n",
            "          ]\n",
            "        },\n",
            "        {\n",
            "          \"type\": [\n",
            "            \"Value command passed is not in set ['parallel']\"\n",
            "          ]\n",
            "        }\n",
            "      ]\n",
            "    }\n",
            "  }\n",
            "} \n",
            "\n",
            " If you are trying to configure a job that is not of type pipeline, please specify the correct job type in the 'type' property.\n",
            "For a more detailed breakdown of the PipelineJob schema, please see: https://aka.ms/ml-cli-v2-job-pipeline-yaml-reference.\n",
            "The easiest way to author a specification file is using IntelliSense and auto-completion Azure ML VS code extension provides: https://code.visualstudio.com/docs/datascience/azure-machine-learning\n",
            "To set up: https://docs.microsoft.com/azure/machine-learning/how-to-setup-vs-code\n",
            "Please check log in debug mode for more details.\n",
            "\n",
            "During handling of the above exception, another exception occurred:\n",
            "\n",
            "Traceback (most recent call last):\n",
            "  File \"/anaconda/envs/azureml_py38/lib/python3.8/runpy.py\", line 194, in _run_module_as_main\n",
            "    return _run_code(code, main_globals, None,\n",
            "  File \"/anaconda/envs/azureml_py38/lib/python3.8/runpy.py\", line 87, in _run_code\n",
            "    exec(code, run_globals)\n",
            "  File \"/anaconda/envs/azureml_py38/lib/python3.8/site-packages/azure/cli/__main__.py\", line 49, in <module>\n",
            "    exit_code = cli_main(az_cli, sys.argv[1:])\n",
            "  File \"/anaconda/envs/azureml_py38/lib/python3.8/site-packages/azure/cli/__main__.py\", line 36, in cli_main\n",
            "    return cli.invoke(args)\n",
            "  File \"/anaconda/envs/azureml_py38/lib/python3.8/site-packages/knack/cli.py\", line 245, in invoke\n",
            "    exit_code = self.exception_handler(ex)\n",
            "  File \"/anaconda/envs/azureml_py38/lib/python3.8/site-packages/azure/cli/core/__init__.py\", line 127, in exception_handler\n",
            "    return handle_exception(ex)\n",
            "  File \"/anaconda/envs/azureml_py38/lib/python3.8/site-packages/azure/cli/core/util.py\", line 65, in handle_exception\n",
            "    from msal_extensions.persistence import PersistenceError\n",
            "ImportError: cannot import name 'PersistenceError' from 'msal_extensions.persistence' (/anaconda/envs/azureml_py38/lib/python3.8/site-packages/msal_extensions/persistence.py)\n",
            "\u001b[0m"
          ]
        }
      ],
      "source": [
        "# Create pipeline job\n",
        "!az ml job create --file train/pipeline.yml"
      ]
    },
    {
      "cell_type": "markdown",
      "metadata": {
        "nteract": {
          "transient": {
            "deleting": false
          }
        }
      },
      "source": [
        "# Online Endpoint\n",
        "\n",
        "Online endpoints are endpoints that are used for online (real-time) inferencing. They receive data from clients and can send responses back in real time.\n",
        "\n",
        "An **endpoint** is an HTTPS endpoint that clients can call to receive the inferencing (scoring) output of a trained model. It provides:\n",
        "* Authentication using \"key & token\" based auth\n",
        "* SSL termination\n",
        "* A stable scoring URI (endpoint-name.region.inference.ml.azure.com)\n",
        "\n",
        "A **deployment** is a set of resources required for hosting the model that does the actual inferencing.\n",
        "A single endpoint can contain multiple deployments.\n",
        "\n",
        "Features of the managed online endpoint:\n",
        "\n",
        "* **Test and deploy locally** for faster debugging\n",
        "* Traffic to one deployment can also be **mirrored** (copied) to another deployment.\n",
        "* **Application Insights integration**\n",
        "* Security\n",
        "* Authentication: Key and Azure ML Tokens\n",
        "* Automatic Autoscaling\n",
        "* Visual Studio Code debugging\n",
        "\n",
        "**blue-green deployment**: An approach where a new version of a web service is introduced to production by deploying it to a small subset of users/requests before deploying it fully.\n",
        "\n",
        "<center>\n",
        "<img src=\"../../imgs/endpoint_concept.png\" width = \"500px\" alt=\"Online Endpoint Concept cli vs sdk\">\n",
        "</center>"
      ]
    },
    {
      "cell_type": "markdown",
      "metadata": {
        "nteract": {
          "transient": {
            "deleting": false
          }
        }
      },
      "source": [
        "## 1. Create Online Endpoint\n",
        "\n",
        "We can create an **online endpoint** with cli v2 or sdk v2 using the following syntax:\n",
        "\n",
        "<center>\n",
        "<img src=\"../../imgs/create_online_endpoint.png\" width = \"700px\" alt=\"Create Online Endpoint cli vs sdk\">\n",
        "</center>"
      ]
    },
    {
      "cell_type": "code",
      "execution_count": null,
      "metadata": {
        "collapsed": false,
        "jupyter": {
          "outputs_hidden": false,
          "source_hidden": false
        },
        "nteract": {
          "transient": {
            "deleting": false
          }
        }
      },
      "outputs": [],
      "source": [
        "# create online endpoint\n",
        "!az ml online-endpoint create --file deploy/online/online-endpoint.yml"
      ]
    },
    {
      "cell_type": "markdown",
      "metadata": {},
      "source": [
        "## 2. Create Online Deployment\n",
        "\n",
        "To create a deployment to online endpoint, you need to specify the following elements:\n",
        "\n",
        "* Model files (or specify a registered model in your workspace)\n",
        "* Scoring script - code needed to do scoring/inferencing\n",
        "* Environment - a Docker image with Conda dependencies, or a dockerfile\n",
        "* Compute instance & scale settings\n",
        "\n",
        "Note that if you're deploying **MLFlow models**, there's no need to provide **a scoring script** and execution **environment**, as both are autogenerated.\n",
        "\n",
        "We can create an **online deployment** with cli v2 or sdk v2 using the following syntax:\n",
        "\n",
        "<center>\n",
        "<img src=\"../../imgs/create_online_deployment.png\" width = \"700px\" alt=\"Create Online Deployment cli vs sdk\">\n",
        "</center>"
      ]
    },
    {
      "cell_type": "code",
      "execution_count": null,
      "metadata": {
        "collapsed": false,
        "jupyter": {
          "outputs_hidden": false,
          "source_hidden": false
        },
        "nteract": {
          "transient": {
            "deleting": false
          }
        }
      },
      "outputs": [],
      "source": [
        "# create online deployment\n",
        "!az ml online-deployment create --file deploy/online/online-deployment.yml "
      ]
    },
    {
      "cell_type": "markdown",
      "metadata": {},
      "source": [
        "## 3. Allocate Traffic"
      ]
    },
    {
      "cell_type": "code",
      "execution_count": null,
      "metadata": {},
      "outputs": [],
      "source": [
        "# allocate traffic\n",
        "!az ml online-endpoint update --name taxi-online-endpoint --traffic blue=100"
      ]
    },
    {
      "cell_type": "markdown",
      "metadata": {},
      "source": [
        "## 4. Invoke and Test Endpoint\n",
        "\n",
        "We can invoke the **online deployment** with cli v2 or sdk v2 using the following syntax:\n",
        "\n",
        "<center>\n",
        "<img src=\"../../imgs/invoke_online_endpoint.png\" width = \"700px\" alt=\"Invoke online endpoint cli vs sdk\">\n",
        "</center>"
      ]
    },
    {
      "cell_type": "code",
      "execution_count": null,
      "metadata": {},
      "outputs": [],
      "source": [
        "# invoke and test endpoint\n",
        "!az ml online-endpoint invoke --name taxi-online-endpoint --request-file ../../data/taxi-request.json"
      ]
    },
    {
      "cell_type": "markdown",
      "metadata": {},
      "source": [
        "# Model Batch Endpoint"
      ]
    },
    {
      "cell_type": "markdown",
      "metadata": {},
      "source": [
        "## 1. Create Batch Compute Cluster"
      ]
    },
    {
      "cell_type": "code",
      "execution_count": null,
      "metadata": {},
      "outputs": [],
      "source": [
        "# create compute cluster to be used by batch cluster\n",
        "!az ml compute create -n batch-cluster --type amlcompute --min-instances 0 --max-instances 3"
      ]
    },
    {
      "cell_type": "markdown",
      "metadata": {},
      "source": [
        "## 2. Create Batch Endpoint\n",
        "\n",
        "We can create the **batch endpoint** with cli v2 or sdk v2 using the following syntax:\n",
        "\n",
        "\n",
        "<center>\n",
        "<img src=\"../../imgs/create_batch_endpoint.png\" width = \"700px\" alt=\"Create batch endpoint cli vs sdk\">\n",
        "</center>"
      ]
    },
    {
      "cell_type": "code",
      "execution_count": null,
      "metadata": {},
      "outputs": [],
      "source": [
        "# create batch endpoint\n",
        "!az ml batch-endpoint create --file deploy/batch/batch-endpoint.yml"
      ]
    },
    {
      "cell_type": "markdown",
      "metadata": {},
      "source": [
        "## 3. Create Batch Deployment\n",
        "\n",
        "We can create the **batch deployment** with cli v2 or sdk v2 using the following syntax:\n",
        "\n",
        "<center>\n",
        "<img src=\"../../imgs/create_batch_deployment.png\" width = \"700px\" alt=\"Create batch deployment cli vs sdk\">\n",
        "</center>\n",
        "\n",
        "Note that if you're deploying **MLFlow models**, there's no need to provide **a scoring script** and execution **environment**, as both are autogenerated."
      ]
    },
    {
      "cell_type": "code",
      "execution_count": null,
      "metadata": {},
      "outputs": [],
      "source": [
        "# create batch deployment\n",
        "!az ml batch-deployment create --file deploy/batch/batch-deployment.yml --set-default"
      ]
    },
    {
      "cell_type": "markdown",
      "metadata": {},
      "source": [
        "## 4. Invoke and Test Endpoint\n",
        "\n",
        "We can invoke the **batch deployment** with cli v2 or sdk v2 using the following syntax:\n",
        "\n",
        "<center>\n",
        "<img src=\"../../imgs/invoke_batch_deployment.png\" width = \"700px\" alt=\"Invoke batch deployment cli vs sdk\">\n",
        "</center>"
      ]
    },
    {
      "cell_type": "code",
      "execution_count": null,
      "metadata": {},
      "outputs": [],
      "source": [
        "# invoke and test endpoint\n",
        "!az ml batch-endpoint invoke --name taxi-batch-endpoint --input ../../data/taxi-batch.csv"
      ]
    }
  ],
  "metadata": {
    "kernel_info": {
      "name": "python38-azureml"
    },
    "kernelspec": {
      "display_name": "Python 3.8 - AzureML",
      "language": "python",
      "name": "python38-azureml"
    },
    "language_info": {
      "codemirror_mode": {
        "name": "ipython",
        "version": 3
      },
      "file_extension": ".py",
      "mimetype": "text/x-python",
      "name": "python",
      "nbconvert_exporter": "python",
      "pygments_lexer": "ipython3",
      "version": "3.8.5 (default, Sep  4 2020, 07:30:14) \n[GCC 7.3.0]"
    },
    "nteract": {
      "version": "nteract-front-end@1.0.0"
    }
  },
  "nbformat": 4,
  "nbformat_minor": 4
}
