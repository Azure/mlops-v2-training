{
 "cells": [
  {
   "cell_type": "markdown",
   "metadata": {},
   "source": [
    "For this workshop, you need:\n",
    "\n",
    "* An Azure Machine Learning workspace. \n",
    "* The Azure Machine Learning Python SDK v2 installed. \n",
    "\n",
    "To install the SDK you can either,\n",
    "\n",
    "Create a compute instance, which already has installed the latest AzureML Python SDK and is pre-configured for ML workflows.\n",
    "\n",
    "Use the followings commands to install Azure ML Python SDK v2:\n",
    "\n",
    "```bash\n",
    "conda activate <virtual_env_name>\n",
    "pip install azure-ai-ml==1.0.0\n",
    "```\n",
    "\n",
    "If you're using a virtual env, make sure to install the sdk inside the virtual env.\n",
    "\n",
    "The virtual environment for sdkv2 on Azure Notebooks is called `azureml_py310_sdkv2`.\n"
   ]
  },
  {
   "cell_type": "markdown",
   "metadata": {
    "nteract": {
     "transient": {
      "deleting": false
     }
    },
    "tags": []
   },
   "source": [
    "## Connect to ML Client"
   ]
  },
  {
   "cell_type": "markdown",
   "metadata": {},
   "source": [
    "To connect to a workspace, you need to provide a subscription, resource group and workspace name. These details are used in the `MLClient` from `azure.ai.ml` to get a handle to the required Azure Machine Learning workspace.\n",
    "\n",
    "In the following example, the default Azure authentication is used along with the default workspace configuration or from any `config.json` file you might have copied into the folders structure. If no `config.json` is found, then you need to manually introduce the subscription_id, resource_group and workspace when creating `MLClient`.\n",
    "\n",
    "```python\n",
    "from azure.identity import DefaultAzureCredential\n",
    "from azure.ai.ml import MLClient\n",
    "\n",
    "credential = DefaultAzureCredential()\n",
    "ml_client = None\n",
    "try:\n",
    "    ml_client = MLClient.from_config(credential)\n",
    "except Exception as ex:\n",
    "    print(ex)\n",
    "    # Enter details of your AzureML workspace\n",
    "    subscription_id = \"<SUBSCRIPTION_ID>\"\n",
    "    resource_group = \"<RESOURCE_GROUP>\"\n",
    "    workspace = \"<AZUREML_WORKSPACE_NAME>\"\n",
    "    ml_client = MLClient(credential, subscription_id, resource_group, workspace)\n",
    "```\n"
   ]
  },
  {
   "cell_type": "code",
   "execution_count": 1,
   "metadata": {},
   "outputs": [],
   "source": [
    "# import required libraries\n",
    "from azure.ai.ml import MLClient, command, Input, Output, load_component\n",
    "from azure.identity import DefaultAzureCredential\n",
    "from azure.ai.ml.entities import Data, Environment\n",
    "from azure.ai.ml.constants import AssetTypes, InputOutputModes\n",
    "from azure.ai.ml.dsl import pipeline"
   ]
  },
  {
   "cell_type": "code",
   "execution_count": 14,
   "metadata": {},
   "outputs": [],
   "source": [
    "# Enter details of your AML workspace\n",
    "subscription_id = \"<subscription_id>\"\n",
    "resource_group = \"<resouce_group_name>\"\n",
    "workspace = \"<workspace_name>\""
   ]
  },
  {
   "cell_type": "code",
   "execution_count": 15,
   "metadata": {
    "collapsed": false,
    "gather": {
     "logged": 1670200031039
    },
    "jupyter": {
     "outputs_hidden": false,
     "source_hidden": false
    },
    "nteract": {
     "transient": {
      "deleting": false
     }
    }
   },
   "outputs": [],
   "source": [
    "# get a handle to the workspace\n",
    "ml_client = MLClient(\n",
    "    DefaultAzureCredential(), subscription_id, resource_group, workspace\n",
    ")"
   ]
  },
  {
   "cell_type": "markdown",
   "metadata": {
    "nteract": {
     "transient": {
      "deleting": false
     }
    },
    "tags": []
   },
   "source": [
    "# Model Training"
   ]
  },
  {
   "cell_type": "markdown",
   "metadata": {
    "nteract": {
     "transient": {
      "deleting": false
     }
    }
   },
   "source": [
    "## (Option) 1. Create Managed Compute\n",
    "\n",
    "A compute is a designated compute resource where you run your job or host your endpoint. Azure Machine learning supports the following types of compute:\n",
    "\n",
    "- **Compute instance** - a fully configured and managed development environment in the cloud. You can use the instance as a training or inference compute for development and testing. It's similar to a virtual machine on the cloud.\n",
    "\n",
    "- **Compute cluster** - a managed-compute infrastructure that allows you to easily create a cluster of CPU or GPU compute nodes in the cloud.\n",
    "\n",
    "- **Inference cluster** - used to deploy trained machine learning models to Azure Kubernetes Service. You can create an Azure Kubernetes Service (AKS) cluster from your Azure ML workspace, or attach an existing AKS cluster.\n",
    "\n",
    "- **Attached compute** - You can attach your own compute resources to your workspace and use them for training and inference.\n",
    "\n",
    "You can create a compute using the Studio, the cli and the sdk.\n",
    "\n",
    "<hr>\n",
    "\n",
    "We can create a **compute instance** with cli v2 or sdk v2 using the following syntax:\n",
    "\n",
    "<center>\n",
    "<img src=\"../../imgs/create_compute_instance.png\" width = \"700px\" alt=\"Create Compute Instance cli vs sdk\">\n",
    "</center>\n",
    "\n",
    "\n",
    "<hr>\n",
    "\n",
    "We can create a **compute cluster** with cli v2 or sdk v2 using the following syntax:\n",
    "\n",
    "<center>\n",
    "<img src=\"../../imgs/create_compute_cluster.png\" width = \"700px\" alt=\"Create Compute Instance cli vs sdk\">\n",
    "</center>\n",
    "\n",
    "\n",
    "Let's create a managed compute cluster for the training workload."
   ]
  },
  {
   "cell_type": "markdown",
   "metadata": {},
   "source": [
    "\n",
    "```python\n",
    "from azure.ai.ml.entities import AmlCompute\n",
    "\n",
    "my_cluster = AmlCompute(\n",
    "    name=\"cpu-cluster-CA\",\n",
    "    type=\"amlcompute\", \n",
    "    size=\"STANDARD_DS3_V2\", \n",
    "    min_instances=0, \n",
    "    max_instances=4,\n",
    "    location=\"westeurope\", \t\n",
    ")\n",
    "\n",
    "ml_client.compute.begin_create_or_update(my_cluster)\n",
    "```"
   ]
  },
  {
   "cell_type": "code",
   "execution_count": 20,
   "metadata": {},
   "outputs": [
    {
     "name": "stdout",
     "output_type": "stream",
     "text": [
      "Compute not found\n"
     ]
    }
   ],
   "source": [
    "from azure.ai.ml.entities import AmlCompute\n",
    "\n",
    "try:\n",
    "    ml_client.compute.get(name=\"cpu-test\")\n",
    "    print(\"Compute already exists\")\n",
    "\n",
    "except:\n",
    "    print(\"Compute not found; Proceding to create\")\n",
    "    \n",
    "    my_cluster = AmlCompute(\n",
    "    name=\"cpu-cluster\",\n",
    "    type=\"amlcompute\", \n",
    "    size=\"STANDARD_DS3_V2\", \n",
    "    min_instances=0, \n",
    "    max_instances=4,\n",
    "    )\n",
    "    ml_client.compute.begin_create_or_update(my_cluster)"
   ]
  },
  {
   "cell_type": "markdown",
   "metadata": {
    "nteract": {
     "transient": {
      "deleting": false
     }
    }
   },
   "source": [
    "## 2. Register Data Asset\n",
    "\n",
    "**Datastore** - Azure Machine Learning Datastores securely keep the connection information to your data storage on Azure, so you don't have to code it in your scripts.\n",
    "\n",
    "An Azure Machine Learning datastore is a **reference** to an **existing** storage account on Azure. The benefits of creating and using a datastore are:\n",
    "* A common and easy-to-use API to interact with different storage type. \n",
    "* Easier to discover useful datastores when working as a team.\n",
    "* When using credential-based access (service principal/SAS/key), the connection information is secured so you don't have to code it in your scripts.\n",
    "\n",
    "Supported Data Resources: \n",
    "\n",
    "* Azure Storage blob container\n",
    "* Azure Storage file share\n",
    "* Azure Data Lake Gen 1\n",
    "* Azure Data Lake Gen 2\n",
    "* Azure SQL Database \n",
    "* Azure PostgreSQL Database\n",
    "* Azure MySQL Database\n",
    "\n",
    "It is not a requirement to use Azure Machine Learning datastores - you can use storage URIs directly assuming you have access to the underlying data.\n",
    "\n",
    "You can create a datastore using the Studio, the cli and the sdk.\n",
    "\n",
    "<hr>\n",
    "\n",
    "We can create a **datastore** with cli v2 or sdk v2 using the following syntax:\n",
    "\n",
    "<center>\n",
    "<img src=\"../../imgs/create_datastore.png\" width = \"700px\" alt=\"Create Datastore cli vs sdk\">\n",
    "</center>\n",
    "\n",
    "\n",
    "\n",
    "**Data asset** - Create data assets in your workspace to share with team members, version, and track data lineage.\n",
    "\n",
    "By creating a data asset, you create a reference to the data source location, along with a copy of its metadata. \n",
    "\n",
    "The benefits of creating data assets are:\n",
    "\n",
    "* You can **share and reuse data** with other members of the team such that they do not need to remember file locations.\n",
    "* You can **seamlessly access data** during model training (on any supported compute type) without worrying about connection strings or data paths.\n",
    "* You can **version** the data.\n",
    "\n",
    "<hr>\n",
    "\n",
    "We can create a **data asset** with cli v2 or sdk v2 using the following syntax:\n",
    "\n",
    "<center>\n",
    "<img src=\"../../imgs/create_data_asset.png\" width = \"700px\" alt=\"Create Data Asset cli vs sdk\">\n",
    "</center>"
   ]
  },
  {
   "cell_type": "code",
   "execution_count": 11,
   "metadata": {
    "collapsed": false,
    "gather": {
     "logged": 1670200033270
    },
    "jupyter": {
     "outputs_hidden": false,
     "source_hidden": false
    },
    "nteract": {
     "transient": {
      "deleting": false
     }
    }
   },
   "outputs": [
    {
     "data": {
      "text/plain": [
       "Data({'skip_validation': False, 'mltable_schema_url': None, 'referenced_uris': None, 'type': 'uri_file', 'is_anonymous': False, 'auto_increment_version': False, 'name': 'taxi-data', 'description': 'Taxi dataset', 'tags': {}, 'properties': {}, 'id': '/subscriptions/14585b9f-5c83-4a76-8055-42149123f99f/resourceGroups/mldemorg/providers/Microsoft.MachineLearningServices/workspaces/mldemo/data/taxi-data/versions/2', 'Resource__source_path': None, 'base_path': '/mnt/batch/tasks/shared/LS_root/mounts/clusters/jomedin2/code/Users/jomedin/mlops-v2/ml-pipelines/sdk', 'creation_context': <azure.ai.ml.entities._system_data.SystemData object at 0x7f823d346500>, 'serialize': <msrest.serialization.Serializer object at 0x7f823d3463e0>, 'version': '2', 'latest_version': None, 'path': 'azureml://subscriptions/14585b9f-5c83-4a76-8055-42149123f99f/resourcegroups/mldemorg/workspaces/mldemo/datastores/workspaceblobstore/paths/LocalUpload/9292ec840b5d1db6306dba71da69ab7f/taxi-data.csv', 'datastore': None})"
      ]
     },
     "execution_count": 11,
     "metadata": {},
     "output_type": "execute_result"
    }
   ],
   "source": [
    "my_data = Data(\n",
    "    path=\"../../data/taxi-data.csv\",\n",
    "    type=AssetTypes.URI_FILE,\n",
    "    description=\"Taxi dataset\",\n",
    "    name=\"taxi-data\"\n",
    ")\n",
    "ml_client.data.create_or_update(my_data)"
   ]
  },
  {
   "cell_type": "markdown",
   "metadata": {},
   "source": [
    "## 3. Register Train Environment\n",
    "\n",
    "Azure Machine Learning environments define the execution environments for your **jobs** or **deployments** and encapsulate the dependencies for your code. \n",
    "\n",
    "Azure ML uses the environment specification to create the Docker container that your **training** or **scoring code** runs in on the specified compute target.\n",
    "\n",
    "Create an environment from a\n",
    "* conda specification\n",
    "* Docker image\n",
    "* Docker build context\n",
    "\n",
    "There are two types of environments in Azure ML: **curated** and **custom environments**. Curated environments are predefined environments containing popular ML frameworks and tooling. Custom environments are user-defined.\n",
    "\n",
    "<hr>\n",
    "\n",
    "We can register an **environment** with cli v2 or sdk v2 using the following syntax:\n",
    "\n",
    "<center>\n",
    "<img src=\"../../imgs/create_environment.png\" width = \"700px\" alt=\"Create Environment cli vs sdk\">\n",
    "</center>"
   ]
  },
  {
   "cell_type": "code",
   "execution_count": 7,
   "metadata": {
    "collapsed": false,
    "gather": {
     "logged": 1670200035753
    },
    "jupyter": {
     "outputs_hidden": false,
     "source_hidden": false
    },
    "nteract": {
     "transient": {
      "deleting": false
     }
    }
   },
   "outputs": [
    {
     "data": {
      "text/plain": [
       "Environment({'is_anonymous': False, 'auto_increment_version': False, 'name': 'taxi-train-env', 'description': 'Environment created from a Docker image plus Conda environment to train taxi model.', 'tags': {}, 'properties': {}, 'id': '/subscriptions/14585b9f-5c83-4a76-8055-42149123f99f/resourceGroups/mldemorg/providers/Microsoft.MachineLearningServices/workspaces/mldemo/environments/taxi-train-env/versions/1', 'Resource__source_path': None, 'base_path': '/mnt/batch/tasks/shared/LS_root/mounts/clusters/jomedin2/code/Users/jomedin/mlops-v2/ml-pipelines/sdk', 'creation_context': <azure.ai.ml.entities._system_data.SystemData object at 0x7f8244a0e2f0>, 'serialize': <msrest.serialization.Serializer object at 0x7f8244a0eef0>, 'version': '1', 'latest_version': None, 'conda_file': {'channels': ['defaults', 'anaconda', 'conda-forge'], 'dependencies': ['python=3.7.5', 'pip', {'pip': ['azureml-mlflow==1.38.0', 'azure-ai-ml==1.0.0', 'pyarrow==10.0.0', 'ruamel.yaml==0.17.21', 'scikit-learn==0.24.1', 'pandas==1.2.1', 'joblib==1.0.0', 'matplotlib==3.3.3']}]}, 'image': 'mcr.microsoft.com/azureml/openmpi3.1.2-ubuntu18.04', 'build': None, 'inference_config': None, 'os_type': 'Linux', 'arm_type': 'environment_version', 'conda_file_path': None, 'path': None, 'datastore': None, 'upload_hash': None, 'translated_conda_file': '{\\n  \"channels\": [\\n    \"defaults\",\\n    \"anaconda\",\\n    \"conda-forge\"\\n  ],\\n  \"dependencies\": [\\n    \"python=3.7.5\",\\n    \"pip\",\\n    {\\n      \"pip\": [\\n        \"azureml-mlflow==1.38.0\",\\n        \"azure-ai-ml==1.0.0\",\\n        \"pyarrow==10.0.0\",\\n        \"ruamel.yaml==0.17.21\",\\n        \"scikit-learn==0.24.1\",\\n        \"pandas==1.2.1\",\\n        \"joblib==1.0.0\",\\n        \"matplotlib==3.3.3\"\\n      ]\\n    }\\n  ]\\n}'})"
      ]
     },
     "execution_count": 7,
     "metadata": {},
     "output_type": "execute_result"
    }
   ],
   "source": [
    "my_environment = Environment(\n",
    "    image=\"mcr.microsoft.com/azureml/openmpi3.1.2-ubuntu18.04\",\n",
    "    conda_file=\"../../environment/train-conda.yml\",\n",
    "    name=\"taxi-train-env\",\n",
    "    description=\"Environment created from a Docker image plus Conda environment to train taxi model.\",\n",
    ")\n",
    "\n",
    "ml_client.environments.create_or_update(my_environment)"
   ]
  },
  {
   "cell_type": "markdown",
   "metadata": {
    "nteract": {
     "transient": {
      "deleting": false
     }
    }
   },
   "source": [
    "## 4. Create Pipeline Job\n",
    "\n",
    "**AML Job**:\n",
    "\n",
    "Azure ML provides several ways to train your models, from code-first solutions to low-code solutions:\n",
    "\n",
    "* Azure ML supports script files in python, R, Java, Julia or C#. All you need to learn is YAML format and command lines to use Azure ML.\n",
    "\n",
    "* Distributed Training: AML supports integrations with popular frameworks, PyTorch and TensorFlow. Both frameworks employ data parallelism & model parallelism for distributed training.\n",
    "\n",
    "* Automated ML - Train models without extensive data science or programming knowledge.\n",
    "\n",
    "* Designer - drag and drop web-based UI.\n",
    "\n",
    "<hr>\n",
    "\n",
    "We can submit a **job** with cli v2 or sdk v2 using the following syntax:\n",
    "\n",
    "<center>\n",
    "<img src=\"../../imgs/create_job.png\" width = \"700px\" alt=\"Create Job cli vs sdk\">\n",
    "</center>\n",
    "\n",
    "<br>\n",
    "    \n",
    "**AML Pipelines**:\n",
    "\n",
    "An AML pipeline is an independently executable workflow of a complete machine learning task. It helps standardizing the best practices of producing a machine learning model: The core of a machine learning pipeline is to split a complete machine learning task into a multistep workflow. Each step is a manageable component that can be developed, optimized, configured, and automated individually. \n",
    "\n",
    "<hr>\n",
    "\n",
    "We can submit a **pipeline job** with cli v2 or sdk v2 using the following syntax:\n",
    "\n",
    "<center>\n",
    "<img src=\"../../imgs/create_pipeline.png\" width = \"700px\" alt=\"Create Pipeline cli vs sdk\">\n",
    "</center>"
   ]
  },
  {
   "cell_type": "code",
   "execution_count": 12,
   "metadata": {
    "collapsed": false,
    "gather": {
     "logged": 1670200036044
    },
    "jupyter": {
     "outputs_hidden": false,
     "source_hidden": false
    },
    "nteract": {
     "transient": {
      "deleting": false
     }
    }
   },
   "outputs": [],
   "source": [
    "# Create pipeline job\n",
    "parent_dir = \"../../components\"\n",
    "\n",
    "# 1. Load components\n",
    "prepare_data = load_component(source=parent_dir + \"/prep.yml\")\n",
    "train_model = load_component(source=parent_dir + \"/train.yml\")\n",
    "evaluate_model = load_component(source=parent_dir + \"/evaluate.yml\")\n",
    "register_model = load_component(source=parent_dir + \"/register.yml\")\n",
    "\n",
    "# 2. Construct pipeline\n",
    "@pipeline()\n",
    "def taxi_training_pipeline(raw_data, enable_monitoring, table_name):\n",
    "    \n",
    "    prepare = prepare_data(\n",
    "        raw_data=raw_data,\n",
    "        enable_monitoring=enable_monitoring, \n",
    "        table_name=table_name\n",
    "    )\n",
    "\n",
    "    train = train_model(\n",
    "        train_data=prepare.outputs.train_data\n",
    "    )\n",
    "\n",
    "    evaluate = evaluate_model(\n",
    "        model_name=\"taxi-model\",\n",
    "        model_input=train.outputs.model_output,\n",
    "        test_data=prepare.outputs.test_data\n",
    "    )\n",
    "\n",
    "\n",
    "    register = register_model(\n",
    "        model_name=\"taxi-model\",\n",
    "        model_path=train.outputs.model_output,\n",
    "        evaluation_output=evaluate.outputs.evaluation_output\n",
    "    )\n",
    "\n",
    "    return {\n",
    "        \"pipeline_job_train_data\": prepare.outputs.train_data,\n",
    "        \"pipeline_job_test_data\": prepare.outputs.test_data,\n",
    "        \"pipeline_job_trained_model\": train.outputs.model_output,\n",
    "        \"pipeline_job_score_report\": evaluate.outputs.evaluation_output,\n",
    "    }\n",
    "\n",
    "\n",
    "pipeline_job = taxi_training_pipeline(\n",
    "    Input(type=AssetTypes.URI_FILE, path=\"taxi-data@latest\"), \"false\", \"taximonitoring\"\n",
    ")\n",
    "\n",
    "# set pipeline level compute\n",
    "pipeline_job.settings.default_compute = \"cpu-cluster\"\n",
    "# set pipeline level datastore\n",
    "pipeline_job.settings.default_datastore = \"workspaceblobstore\""
   ]
  },
  {
   "cell_type": "code",
   "execution_count": 13,
   "metadata": {
    "collapsed": false,
    "gather": {
     "logged": 1670200062228
    },
    "jupyter": {
     "outputs_hidden": false,
     "source_hidden": false
    },
    "nteract": {
     "transient": {
      "deleting": false
     }
    }
   },
   "outputs": [
    {
     "data": {
      "text/html": [
       "<table style=\"width:100%\"><tr><th>Experiment</th><th>Name</th><th>Type</th><th>Status</th><th>Details Page</th></tr><tr><td>pipeline_samples</td><td>mango_bone_4n6c48cfyz</td><td>pipeline</td><td>Preparing</td><td><a href=\"https://ml.azure.com/runs/mango_bone_4n6c48cfyz?wsid=/subscriptions/14585b9f-5c83-4a76-8055-42149123f99f/resourcegroups/mldemorg/workspaces/mldemo&amp;tid=16b3c013-d300-468d-ac64-7eda0820b6d3\" target=\"_blank\" rel=\"noopener\">Link to Azure Machine Learning studio</a></td></tr></table>"
      ],
      "text/plain": [
       "PipelineJob({'inputs': {'raw_data': <azure.ai.ml.entities._job.pipeline._io.base.PipelineInput object at 0x7f823c24c9a0>, 'enable_monitoring': <azure.ai.ml.entities._job.pipeline._io.base.PipelineInput object at 0x7f823c24d0f0>, 'table_name': <azure.ai.ml.entities._job.pipeline._io.base.PipelineInput object at 0x7f823c24ce80>}, 'outputs': {'pipeline_job_train_data': <azure.ai.ml.entities._job.pipeline._io.base.PipelineOutput object at 0x7f823c24d960>, 'pipeline_job_test_data': <azure.ai.ml.entities._job.pipeline._io.base.PipelineOutput object at 0x7f823c24da20>, 'pipeline_job_trained_model': <azure.ai.ml.entities._job.pipeline._io.base.PipelineOutput object at 0x7f823c24d060>, 'pipeline_job_score_report': <azure.ai.ml.entities._job.pipeline._io.base.PipelineOutput object at 0x7f823c24ec80>}, 'jobs': {}, 'component': PipelineComponent({'auto_increment_version': False, 'source': 'REMOTE.WORKSPACE.JOB', 'is_anonymous': True, 'name': 'azureml_anonymous', 'description': None, 'tags': {}, 'properties': {}, 'id': None, 'Resource__source_path': None, 'base_path': None, 'creation_context': None, 'serialize': <msrest.serialization.Serializer object at 0x7f823c24e5c0>, 'version': '1', 'latest_version': None, 'schema': None, 'type': 'pipeline', 'display_name': 'taxi_training_pipeline', 'is_deterministic': None, 'inputs': {'raw_data': {}, 'enable_monitoring': {}, 'table_name': {}}, 'outputs': {'pipeline_job_train_data': {}, 'pipeline_job_test_data': {}, 'pipeline_job_trained_model': {}, 'pipeline_job_score_report': {}}, 'yaml_str': None, 'other_parameter': {}, 'jobs': {'prepare': Command({'parameters': {}, 'init': False, 'type': 'command', 'status': None, 'log_files': None, 'name': 'prepare', 'description': None, 'tags': {}, 'properties': {}, 'id': None, 'Resource__source_path': None, 'base_path': None, 'creation_context': None, 'serialize': <msrest.serialization.Serializer object at 0x7f823c24c0d0>, 'allowed_keys': {}, 'key_restriction': False, 'logger': <Logger attr_dict (WARNING)>, 'display_name': None, 'experiment_name': None, 'compute': None, 'services': None, 'comment': None, 'job_inputs': {'raw_data': '${{parent.inputs.raw_data}}', 'enable_monitoring': '${{parent.inputs.enable_monitoring}}', 'table_name': '${{parent.inputs.table_name}}'}, 'job_outputs': {'train_data': '${{parent.outputs.pipeline_job_train_data}}', 'test_data': '${{parent.outputs.pipeline_job_test_data}}'}, 'inputs': {'raw_data': <azure.ai.ml.entities._job.pipeline._io.base.NodeInput object at 0x7f823c24c880>, 'enable_monitoring': <azure.ai.ml.entities._job.pipeline._io.base.NodeInput object at 0x7f823c24ca60>, 'table_name': <azure.ai.ml.entities._job.pipeline._io.base.NodeInput object at 0x7f823c24d240>}, 'outputs': {'train_data': <azure.ai.ml.entities._job.pipeline._io.base.NodeOutput object at 0x7f823c24d3f0>, 'test_data': <azure.ai.ml.entities._job.pipeline._io.base.NodeOutput object at 0x7f823c24d300>}, 'component': 'azureml_anonymous:f97794ad-73b5-4b7a-94bf-bcda77fa41c7', 'referenced_control_flow_node_instance_id': None, 'kwargs': {'services': None}, 'instance_id': '2f806bf0-71d7-4d62-9450-8a9ec47ff3c4', 'source': 'REMOTE.WORKSPACE.COMPONENT', 'limits': None, 'identity': None, 'distribution': None, 'environment_variables': {}, 'environment': None, 'resources': None, 'swept': False}), 'train': Command({'parameters': {}, 'init': False, 'type': 'command', 'status': None, 'log_files': None, 'name': 'train', 'description': None, 'tags': {}, 'properties': {}, 'id': None, 'Resource__source_path': None, 'base_path': None, 'creation_context': None, 'serialize': <msrest.serialization.Serializer object at 0x7f823c24c3d0>, 'allowed_keys': {}, 'key_restriction': False, 'logger': <Logger attr_dict (WARNING)>, 'display_name': None, 'experiment_name': None, 'compute': None, 'services': None, 'comment': None, 'job_inputs': {'train_data': '${{parent.jobs.prepare.outputs.train_data}}'}, 'job_outputs': {'model_output': '${{parent.outputs.pipeline_job_trained_model}}'}, 'inputs': {'train_data': <azure.ai.ml.entities._job.pipeline._io.base.NodeInput object at 0x7f823c24c8b0>}, 'outputs': {'model_output': <azure.ai.ml.entities._job.pipeline._io.base.NodeOutput object at 0x7f823c24c430>}, 'component': 'azureml_anonymous:06b6fc41-aaaf-41d5-957e-4d8dfb481b4e', 'referenced_control_flow_node_instance_id': None, 'kwargs': {'services': None}, 'instance_id': '5762e0b6-b02d-4ed2-964b-0ce3616c28e4', 'source': 'REMOTE.WORKSPACE.COMPONENT', 'limits': None, 'identity': None, 'distribution': None, 'environment_variables': {}, 'environment': None, 'resources': None, 'swept': False}), 'evaluate': Command({'parameters': {}, 'init': False, 'type': 'command', 'status': None, 'log_files': None, 'name': 'evaluate', 'description': None, 'tags': {}, 'properties': {}, 'id': None, 'Resource__source_path': None, 'base_path': None, 'creation_context': None, 'serialize': <msrest.serialization.Serializer object at 0x7f823c24ca30>, 'allowed_keys': {}, 'key_restriction': False, 'logger': <Logger attr_dict (WARNING)>, 'display_name': None, 'experiment_name': None, 'compute': None, 'services': None, 'comment': None, 'job_inputs': {'model_name': 'taxi-model', 'model_input': '${{parent.jobs.train.outputs.model_output}}', 'test_data': '${{parent.jobs.prepare.outputs.test_data}}'}, 'job_outputs': {'evaluation_output': '${{parent.outputs.pipeline_job_score_report}}'}, 'inputs': {'model_name': <azure.ai.ml.entities._job.pipeline._io.base.NodeInput object at 0x7f823c24e110>, 'model_input': <azure.ai.ml.entities._job.pipeline._io.base.NodeInput object at 0x7f823c24c130>, 'test_data': <azure.ai.ml.entities._job.pipeline._io.base.NodeInput object at 0x7f823c24db40>}, 'outputs': {'evaluation_output': <azure.ai.ml.entities._job.pipeline._io.base.NodeOutput object at 0x7f823c24d9c0>}, 'component': 'azureml_anonymous:afe8a98a-9052-434d-8ce5-2d0c9235d132', 'referenced_control_flow_node_instance_id': None, 'kwargs': {'services': None}, 'instance_id': 'bdece213-a036-4e94-96d7-a36787d8e26c', 'source': 'REMOTE.WORKSPACE.COMPONENT', 'limits': None, 'identity': None, 'distribution': None, 'environment_variables': {}, 'environment': None, 'resources': None, 'swept': False}), 'register': Command({'parameters': {}, 'init': False, 'type': 'command', 'status': None, 'log_files': None, 'name': 'register', 'description': None, 'tags': {}, 'properties': {}, 'id': None, 'Resource__source_path': None, 'base_path': None, 'creation_context': None, 'serialize': <msrest.serialization.Serializer object at 0x7f823c24dbd0>, 'allowed_keys': {}, 'key_restriction': False, 'logger': <Logger attr_dict (WARNING)>, 'display_name': None, 'experiment_name': None, 'compute': None, 'services': None, 'comment': None, 'job_inputs': {'model_name': 'taxi-model', 'model_path': '${{parent.jobs.train.outputs.model_output}}', 'evaluation_output': '${{parent.jobs.evaluate.outputs.evaluation_output}}'}, 'job_outputs': {}, 'inputs': {'model_name': <azure.ai.ml.entities._job.pipeline._io.base.NodeInput object at 0x7f823c24f040>, 'model_path': <azure.ai.ml.entities._job.pipeline._io.base.NodeInput object at 0x7f823c24ec50>, 'evaluation_output': <azure.ai.ml.entities._job.pipeline._io.base.NodeInput object at 0x7f823c24d090>}, 'outputs': {}, 'component': 'azureml_anonymous:48cbad14-c17b-4f02-b1d8-21b449d8d16c', 'referenced_control_flow_node_instance_id': None, 'kwargs': {'services': None}, 'instance_id': '41368e3d-27d9-4e1e-bcb6-ff16818ae86f', 'source': 'REMOTE.WORKSPACE.COMPONENT', 'limits': None, 'identity': None, 'distribution': None, 'environment_variables': {}, 'environment': None, 'resources': None, 'swept': False})}, 'job_types': {'command': 4}, 'job_sources': {'REMOTE.WORKSPACE.COMPONENT': 4}, 'source_job_id': None}), 'type': 'pipeline', 'status': 'Preparing', 'log_files': None, 'name': 'mango_bone_4n6c48cfyz', 'description': None, 'tags': {}, 'properties': {'azureml.DevPlatv2': 'true', 'azureml.runsource': 'azureml.PipelineRun', 'runSource': 'MFE', 'runType': 'HTTP', 'azureml.parameters': '{\"enable_monitoring\":\"false\",\"table_name\":\"taximonitoring\"}', 'azureml.continue_on_step_failure': 'False', 'azureml.continue_on_failed_optional_input': 'True', 'azureml.defaultComputeName': 'cpu-cluster', 'azureml.defaultDataStoreName': 'workspaceblobstore', 'azureml.pipelineComponent': 'pipelinerun'}, 'id': '/subscriptions/14585b9f-5c83-4a76-8055-42149123f99f/resourceGroups/mldemorg/providers/Microsoft.MachineLearningServices/workspaces/mldemo/jobs/mango_bone_4n6c48cfyz', 'Resource__source_path': None, 'base_path': '/mnt/batch/tasks/shared/LS_root/mounts/clusters/jomedin2/code/Users/jomedin/mlops-v2/ml-pipelines/sdk', 'creation_context': <azure.ai.ml.entities._system_data.SystemData object at 0x7f823c24e830>, 'serialize': <msrest.serialization.Serializer object at 0x7f823c24c610>, 'display_name': 'taxi_training_pipeline', 'experiment_name': 'pipeline_samples', 'compute': None, 'services': {'Tracking': <azure.ai.ml._restclient.v2022_10_01_preview.models._models_py3.JobService object at 0x7f823c24d540>, 'Studio': <azure.ai.ml._restclient.v2022_10_01_preview.models._models_py3.JobService object at 0x7f823c24dc60>}, 'settings': {}, 'identity': None, 'default_code': None, 'default_environment': None})"
      ]
     },
     "execution_count": 13,
     "metadata": {},
     "output_type": "execute_result"
    }
   ],
   "source": [
    "pipeline_job = ml_client.jobs.create_or_update(\n",
    "    pipeline_job, experiment_name=\"pipeline_samples\"\n",
    ")\n",
    "pipeline_job"
   ]
  },
  {
   "cell_type": "code",
   "execution_count": null,
   "metadata": {},
   "outputs": [],
   "source": []
  }
 ],
 "metadata": {
  "kernel_info": {
   "name": "python310-sdkv2"
  },
  "kernelspec": {
   "display_name": "Python 3.10 - SDK V2",
   "language": "python",
   "name": "python310-sdkv2"
  },
  "language_info": {
   "codemirror_mode": {
    "name": "ipython",
    "version": 3
   },
   "file_extension": ".py",
   "mimetype": "text/x-python",
   "name": "python",
   "nbconvert_exporter": "python",
   "pygments_lexer": "ipython3",
   "version": "3.10.6"
  },
  "microsoft": {
   "host": {
    "AzureML": {
     "notebookHasBeenCompleted": true
    }
   }
  },
  "nteract": {
   "version": "nteract-front-end@1.0.0"
  }
 },
 "nbformat": 4,
 "nbformat_minor": 4
}
