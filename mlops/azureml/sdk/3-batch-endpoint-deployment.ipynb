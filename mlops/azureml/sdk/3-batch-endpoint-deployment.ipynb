{
  "cells": [
    {
      "cell_type": "markdown",
      "source": [
        "For this workshop, you need:\n",
        "\n",
        "* An Azure Machine Learning workspace. \n",
        "* The Azure Machine Learning Python SDK v2 installed. \n",
        "\n",
        "To install the SDK you can either,\n",
        "\n",
        "Create a compute instance, which already has installed the latest AzureML Python SDK and is pre-configured for ML workflows.\n",
        "\n",
        "Use the followings commands to install Azure ML Python SDK v2:\n",
        "\n",
        "```bash\n",
        "conda activate <virtual_env_name>\n",
        "pip install azure-ai-ml==1.0.0\n",
        "```\n",
        "\n",
        "If you're using a virtual env, make sure to install the sdk inside the virtual env.\n",
        "\n",
        "The virtual environment for sdkv2 on Azure Notebooks is called `azureml_py310_sdkv2`.\n"
      ],
      "metadata": {}
    },
    {
      "cell_type": "markdown",
      "source": [
        "## Connect to ML Client"
      ],
      "metadata": {
        "nteract": {
          "transient": {
            "deleting": false
          }
        },
        "tags": []
      }
    },
    {
      "cell_type": "markdown",
      "source": [
        "To connect to a workspace, you need to provide a subscription, resource group and workspace name. These details are used in the `MLClient` from `azure.ai.ml` to get a handle to the required Azure Machine Learning workspace.\n",
        "\n",
        "In the following example, the default Azure authentication is used along with the default workspace configuration or from any `config.json` file you might have copied into the folders structure. If no `config.json` is found, then you need to manually introduce the subscription_id, resource_group and workspace when creating `MLClient`.\n",
        "\n",
        "```python\n",
        "from azure.identity import DefaultAzureCredential\n",
        "from azure.ai.ml import MLClient\n",
        "\n",
        "credential = DefaultAzureCredential()\n",
        "ml_client = None\n",
        "try:\n",
        "    ml_client = MLClient.from_config(credential)\n",
        "except Exception as ex:\n",
        "    print(ex)\n",
        "    # Enter details of your AzureML workspace\n",
        "    subscription_id = \"<SUBSCRIPTION_ID>\"\n",
        "    resource_group = \"<RESOURCE_GROUP>\"\n",
        "    workspace = \"<AZUREML_WORKSPACE_NAME>\"\n",
        "    ml_client = MLClient(credential, subscription_id, resource_group, workspace)\n",
        "```\n"
      ],
      "metadata": {}
    },
    {
      "cell_type": "code",
      "source": [
        "from azure.identity import DefaultAzureCredential, InteractiveBrowserCredential\n",
        "from azure.ai.ml import MLClient\n",
        "\n",
        "try:\n",
        "    credential = DefaultAzureCredential()\n",
        "    # Check if given credential can get token successfully.\n",
        "    credential.get_token(\"https://management.azure.com/.default\")\n",
        "except Exception as ex:\n",
        "    # Fall back to InteractiveBrowserCredential in case DefaultAzureCredential not work\n",
        "    credential = InteractiveBrowserCredential()\n",
        "\n",
        "# Add config.json file to the workspace\n",
        "# Get a handle to workspace\n",
        "ml_client = MLClient.from_config(credential=credential, path=\"config.json\")"
      ],
      "outputs": [
        {
          "output_type": "stream",
          "name": "stderr",
          "text": "Found the config file in: /config.json\n"
        }
      ],
      "execution_count": 1,
      "metadata": {
        "collapsed": false,
        "gather": {
          "logged": 1674692543523
        },
        "jupyter": {
          "outputs_hidden": false,
          "source_hidden": false
        },
        "nteract": {
          "transient": {
            "deleting": false
          }
        }
      }
    },
    {
      "cell_type": "markdown",
      "source": [
        "# Batch Endpoint\n",
        "\n",
        "**Batch endpoints** are endpoints that are used to do batch inferencing on large volumes of data over a period of time. \n",
        "\n",
        "**Batch endpoints** receive pointers to data and run jobs asynchronously to process the data in parallel on compute clusters. Batch endpoints store outputs to a data store for further analysis.\n",
        "\n",
        "<center>\n",
        "<img src=\"../../../imgs/endpoint_batch_concept.png\" width = \"700px\" alt=\"Concept batch endpoint\">\n",
        "</center>"
      ],
      "metadata": {}
    },
    {
      "cell_type": "markdown",
      "source": [
        "## 1. Create Batch Compute Cluster"
      ],
      "metadata": {}
    },
    {
      "cell_type": "code",
      "source": [
        "# create compute cluster to be used by batch cluster\n",
        "from azure.ai.ml.entities import AmlCompute\n",
        "\n",
        "my_cluster = AmlCompute(\n",
        "    name=\"batch-cluster\",\n",
        "    type=\"amlcompute\", \n",
        "    size=\"STANDARD_DS3_V2\", \n",
        "    min_instances=0, \n",
        "    max_instances=3,\n",
        "    location=\"westeurope\", \t\n",
        ")\n",
        "ml_client.compute.begin_create_or_update(my_cluster)"
      ],
      "outputs": [
        {
          "output_type": "execute_result",
          "execution_count": 2,
          "data": {
            "text/plain": "<azure.core.polling._poller.LROPoller at 0x7f2856f40580>"
          },
          "metadata": {}
        }
      ],
      "execution_count": 2,
      "metadata": {
        "gather": {
          "logged": 1674692544420
        }
      }
    },
    {
      "cell_type": "markdown",
      "source": [
        "## 2. Create Batch Endpoint\n",
        "\n",
        "We can create the **batch endpoint** with cli v2 or sdk v2 using the following syntax:\n",
        "\n",
        "\n",
        "<center>\n",
        "<img src=\"../../../imgs/create_batch_endpoint.png\" width = \"700px\" alt=\"Create batch endpoint cli vs sdk\">\n",
        "</center>"
      ],
      "metadata": {}
    },
    {
      "cell_type": "code",
      "source": [
        "# create batch endpoint\n",
        "from azure.ai.ml.entities import BatchEndpoint\n",
        "\n",
        "batch_endpoint = BatchEndpoint(\n",
        "    name=\"taxi-batch-endp\",\n",
        "    description=\"Taxi batch endpoint\",\n",
        "    tags={\"model\": \"taxi-model@latest\"},\n",
        ")\n",
        "\n",
        "ml_client.begin_create_or_update(batch_endpoint)\n"
      ],
      "outputs": [
        {
          "output_type": "execute_result",
          "execution_count": 3,
          "data": {
            "text/plain": "<azure.core.polling._poller.LROPoller at 0x7f2856f42740>"
          },
          "metadata": {}
        }
      ],
      "execution_count": 3,
      "metadata": {
        "gather": {
          "logged": 1674692554465
        }
      }
    },
    {
      "cell_type": "markdown",
      "source": [
        "## 3. Create Batch Deployment\n",
        "\n",
        "We can create the **batch deployment** with cli v2 or sdk v2 using the following syntax:\n",
        "\n",
        "<center>\n",
        "<img src=\"../../../imgs/create_batch_deployment.png\" width = \"700px\" alt=\"Create batch deployment cli vs sdk\">\n",
        "</center>\n",
        "\n",
        "Note that if you're deploying **MLFlow models**, there's no need to provide **a scoring script** and execution **environment**, as both are autogenerated."
      ],
      "metadata": {}
    },
    {
      "cell_type": "code",
      "source": [
        "# create batch deployment\n",
        "from azure.ai.ml.entities import BatchDeployment, Model, Environment\n",
        "from azure.ai.ml.constants import BatchDeploymentOutputAction\n",
        "\n",
        "model = \"taxi-model@latest\"\n",
        "\n",
        "batch_deployment = BatchDeployment(\n",
        "    name=\"taxi-batch-dp\",\n",
        "    description=\"this is a sample batch deployment\",\n",
        "    endpoint_name=\"taxi-batch-endp\",\n",
        "    model=model,\n",
        "    compute=\"batch-cluster\",\n",
        "    instance_count=2,\n",
        "    max_concurrency_per_instance=2,\n",
        "    mini_batch_size=10,\n",
        "    output_action=BatchDeploymentOutputAction.APPEND_ROW,\n",
        "    output_file_name=\"predictions.csv\",\n",
        ")\n",
        "\n",
        "ml_client.begin_create_or_update(batch_deployment)\n"
      ],
      "outputs": [
        {
          "output_type": "execute_result",
          "execution_count": 4,
          "data": {
            "text/plain": "<azure.core.polling._poller.LROPoller at 0x7f2856f433d0>"
          },
          "metadata": {}
        }
      ],
      "execution_count": 4,
      "metadata": {
        "gather": {
          "logged": 1674692581970
        }
      }
    },
    {
      "cell_type": "markdown",
      "source": [
        "Set deployment as the default deployment in the endpoint:"
      ],
      "metadata": {
        "nteract": {
          "transient": {
            "deleting": false
          }
        }
      }
    },
    {
      "cell_type": "code",
      "source": [
        "batch_endpoint = ml_client.batch_endpoints.get(\"taxi-batch-endp\")\n",
        "batch_endpoint.defaults.deployment_name = batch_deployment.name\n",
        "ml_client.batch_endpoints.begin_create_or_update(batch_endpoint)"
      ],
      "outputs": [
        {
          "output_type": "execute_result",
          "execution_count": 5,
          "data": {
            "text/plain": "<azure.core.polling._poller.LROPoller at 0x7f2856f9c490>"
          },
          "metadata": {}
        }
      ],
      "execution_count": 5,
      "metadata": {
        "collapsed": false,
        "gather": {
          "logged": 1674692770428
        },
        "jupyter": {
          "outputs_hidden": false
        },
        "nteract": {
          "transient": {
            "deleting": false
          }
        }
      }
    },
    {
      "cell_type": "markdown",
      "source": [
        "## 4. Invoke and Test Endpoint\n",
        "\n",
        "We can invoke the **batch deployment** with cli v2 or sdk v2 using the following syntax:\n",
        "\n",
        "<center>\n",
        "<img src=\"../../../imgs/invoke_batch_deployment.png\" width = \"700px\" alt=\"Invoke batch deployment cli vs sdk\">\n",
        "</center>"
      ],
      "metadata": {}
    },
    {
      "cell_type": "code",
      "source": [
        "# invoke and test endpoint\n",
        "from azure.ai.ml import Input\n",
        "from azure.ai.ml.constants import AssetTypes, InputOutputModes\n",
        "\n",
        "input = Input(path=\"../../../data/taxi-batch.csv\", \n",
        "              type=AssetTypes.URI_FILE, \n",
        "              mode=InputOutputModes.DOWNLOAD)\n",
        "\n",
        "\n",
        "# invoke the endpoint for batch scoring job\n",
        "ml_client.batch_endpoints.invoke(\n",
        "    endpoint_name=\"taxi-batch-endp\",\n",
        "    input=input,\n",
        "    deployment_name=\"taxi-batch-dp\"\n",
        ")\n"
      ],
      "outputs": [
        {
          "output_type": "stream",
          "name": "stderr",
          "text": "\r\u001b[32mUploading taxi-batch.csv\u001b[32m (< 1 MB): 0.00B [00:00, ?B/s]\r\u001b[32mUploading taxi-batch.csv\u001b[32m (< 1 MB): 100%|██████████| 133k/133k [00:00<00:00, 6.98MB/s]\n\u001b[39m\n\n"
        },
        {
          "output_type": "execute_result",
          "execution_count": 6,
          "data": {
            "text/plain": "<azure.ai.ml._restclient.v2020_09_01_dataplanepreview.models._models_py3.BatchJobResource at 0x7f2856f9d2d0>"
          },
          "metadata": {}
        }
      ],
      "execution_count": 6,
      "metadata": {
        "gather": {
          "logged": 1674692777521
        }
      }
    }
  ],
  "metadata": {
    "kernel_info": {
      "name": "python310-sdkv2"
    },
    "kernelspec": {
      "name": "python310-sdkv2",
      "language": "python",
      "display_name": "Python 3.10 - SDK V2"
    },
    "language_info": {
      "name": "python",
      "version": "3.10.6",
      "mimetype": "text/x-python",
      "codemirror_mode": {
        "name": "ipython",
        "version": 3
      },
      "pygments_lexer": "ipython3",
      "nbconvert_exporter": "python",
      "file_extension": ".py"
    },
    "microsoft": {
      "host": {
        "AzureML": {
          "notebookHasBeenCompleted": true
        }
      }
    },
    "nteract": {
      "version": "nteract-front-end@1.0.0"
    }
  },
  "nbformat": 4,
  "nbformat_minor": 4
}